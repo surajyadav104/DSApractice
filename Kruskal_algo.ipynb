{
  "nbformat": 4,
  "nbformat_minor": 0,
  "metadata": {
    "colab": {
      "name": "Kruskal_algo.ipynb",
      "provenance": [],
      "authorship_tag": "ABX9TyOzwBwZtizNWVGKqneu6S8W",
      "include_colab_link": true
    },
    "kernelspec": {
      "name": "python3",
      "display_name": "Python 3"
    },
    "language_info": {
      "name": "python"
    }
  },
  "cells": [
    {
      "cell_type": "markdown",
      "metadata": {
        "id": "view-in-github",
        "colab_type": "text"
      },
      "source": [
        "<a href=\"https://colab.research.google.com/github/surajyadav104/DSApractice/blob/main/Kruskal_algo.ipynb\" target=\"_parent\"><img src=\"https://colab.research.google.com/assets/colab-badge.svg\" alt=\"Open In Colab\"/></a>"
      ]
    },
    {
      "cell_type": "code",
      "execution_count": 1,
      "metadata": {
        "id": "5tWuZwGP_Rxz"
      },
      "outputs": [],
      "source": [
        "def kruskal(WList):\n",
        "  (edges,component,TE)=([],{},[])\n",
        "  for u in WList.keys():\n",
        "    edges.extend([d,u,v] for (v,d) in WList[u])\n",
        "    component[u]=u\n",
        "  edges.sort()\n",
        "  for (d,u,v) in edges:\n",
        "    if component[u] != component[v]:\n",
        "      TE.append((u,v))\n",
        "      c=component[u]\n",
        "      for w in WList.keys():\n",
        "        if component[w]==c:\n",
        "          component[w]=component[v]\n",
        "  return(TE)"
      ]
    }
  ]
}