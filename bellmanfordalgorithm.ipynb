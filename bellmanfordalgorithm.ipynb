{
  "nbformat": 4,
  "nbformat_minor": 0,
  "metadata": {
    "colab": {
      "name": "bellmanfordalgorithm.ipynb",
      "provenance": [],
      "authorship_tag": "ABX9TyPMMnG3jZeKcA6OtUT1yES2",
      "include_colab_link": true
    },
    "kernelspec": {
      "name": "python3",
      "display_name": "Python 3"
    },
    "language_info": {
      "name": "python"
    }
  },
  "cells": [
    {
      "cell_type": "markdown",
      "metadata": {
        "id": "view-in-github",
        "colab_type": "text"
      },
      "source": [
        "<a href=\"https://colab.research.google.com/github/surajyadav104/DSApractice/blob/main/bellmanfordalgorithm.ipynb\" target=\"_parent\"><img src=\"https://colab.research.google.com/assets/colab-badge.svg\" alt=\"Open In Colab\"/></a>"
      ]
    },
    {
      "cell_type": "code",
      "execution_count": 5,
      "metadata": {
        "id": "3c0Xgx_j_y0C"
      },
      "outputs": [],
      "source": [
        "def bellmanford(WMat,s):\n",
        "  (rows,cols,x)= WMat.shape\n",
        "  infinity = np.max(WMat.shape)*rows + 1\n",
        "  distance = {}\n",
        "  for i in range(rows):\n",
        "    distance[i]=infinity\n",
        "  distance[s]=0\n",
        "  for i in range(rows):\n",
        "    for j in range(rows):\n",
        "      for k in range(cols):\n",
        "        if(WMat[j,k,0]==1):\n",
        "          distance[k]=min(distance[k],distance[j]+WMat[j,k,1])\n",
        "  return(distance)"
      ]
    },
    {
      "cell_type": "code",
      "source": [
        "edges = [(0,1,10),(0,7,8),(1,5,2),(2,1,1),(2,3,1),(3,4,3),(4,5,-1),(5,2,-2),(6,1,-4),(6,5,-1),(7,6,1)]\n",
        "size = 8\n",
        "import numpy as np\n",
        "W = np.zeros(shape=(size,size,2))\n",
        "for (i,j,w) in edges:\n",
        "  W[i,j,0] = 1\n",
        "  W[i,j,1] = w    \n",
        "print(bellmanford(W,0))"
      ],
      "metadata": {
        "colab": {
          "base_uri": "https://localhost:8080/"
        },
        "id": "mOUv3jNW9HOl",
        "outputId": "7cd20304-eac0-4c71-e744-7046c2f9644e"
      },
      "execution_count": 6,
      "outputs": [
        {
          "output_type": "stream",
          "name": "stdout",
          "text": [
            "{0: 0, 1: 5.0, 2: 5.0, 3: 6.0, 4: 9.0, 5: 7.0, 6: 9.0, 7: 8.0}\n"
          ]
        }
      ]
    },
    {
      "cell_type": "code",
      "source": [
        "def bellmanfordlist(WList,s):\n",
        "  infinity = 1+ len(WList.keys())*max([d for u in WList.keys() for (v,d) in WList.keys()])\n",
        "  distance = {}\n",
        "  for i in WList.keys():\n",
        "    distance[i]=infinity\n",
        "  distance[s]=0\n",
        "  for i in WList.keys():\n",
        "    for u in WList.keys():\n",
        "      for (v,d) in WList[u]:\n",
        "        distance[v]=min(distance[v],distance[u]+d)\n",
        "  return(distance)"
      ],
      "metadata": {
        "id": "9PkdLsUz7j_6"
      },
      "execution_count": 3,
      "outputs": []
    }
  ]
}