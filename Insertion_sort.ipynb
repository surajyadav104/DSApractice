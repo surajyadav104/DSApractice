{
  "nbformat": 4,
  "nbformat_minor": 0,
  "metadata": {
    "colab": {
      "name": "Insertion_sort.ipynb",
      "provenance": [],
      "authorship_tag": "ABX9TyMeG7199mN3B83Gs7g0DcbQ",
      "include_colab_link": true
    },
    "kernelspec": {
      "name": "python3",
      "display_name": "Python 3"
    },
    "language_info": {
      "name": "python"
    }
  },
  "cells": [
    {
      "cell_type": "markdown",
      "metadata": {
        "id": "view-in-github",
        "colab_type": "text"
      },
      "source": [
        "<a href=\"https://colab.research.google.com/github/surajyadav104/DSApractice/blob/main/Insertion_sort.ipynb\" target=\"_parent\"><img src=\"https://colab.research.google.com/assets/colab-badge.svg\" alt=\"Open In Colab\"/></a>"
      ]
    },
    {
      "cell_type": "code",
      "metadata": {
        "id": "c7J--aAd8gtv"
      },
      "source": [
        "def Insertionsort(l):\n",
        "  n=len(l)\n",
        "  if(n<1):\n",
        "    return(l)\n",
        "  for i in range(n):\n",
        "    j=i\n",
        "    while(j>0 and l[j]<l[j-1]):\n",
        "      (l[j],l[j-1])=(l[j-1],l[j])\n",
        "      j=j-1\n",
        "  return(l)    "
      ],
      "execution_count": 3,
      "outputs": []
    },
    {
      "cell_type": "code",
      "metadata": {
        "colab": {
          "base_uri": "https://localhost:8080/"
        },
        "id": "iJO_WwjW9Nme",
        "outputId": "549db5b4-6854-42e8-82d8-4efab1659aaf"
      },
      "source": [
        "print(Insertionsort([3,5,7,2,8]))"
      ],
      "execution_count": 4,
      "outputs": [
        {
          "output_type": "stream",
          "name": "stdout",
          "text": [
            "[2, 3, 5, 7, 8]\n"
          ]
        }
      ]
    }
  ]
}