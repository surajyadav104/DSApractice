{
  "nbformat": 4,
  "nbformat_minor": 0,
  "metadata": {
    "colab": {
      "name": "floyedwarshall.ipynb",
      "provenance": [],
      "authorship_tag": "ABX9TyMTqL1vpIBQgUQ2zrTRD4gh",
      "include_colab_link": true
    },
    "kernelspec": {
      "name": "python3",
      "display_name": "Python 3"
    },
    "language_info": {
      "name": "python"
    }
  },
  "cells": [
    {
      "cell_type": "markdown",
      "metadata": {
        "id": "view-in-github",
        "colab_type": "text"
      },
      "source": [
        "<a href=\"https://colab.research.google.com/github/surajyadav104/DSApractice/blob/main/floyedwarshall.ipynb\" target=\"_parent\"><img src=\"https://colab.research.google.com/assets/colab-badge.svg\" alt=\"Open In Colab\"/></a>"
      ]
    },
    {
      "cell_type": "code",
      "execution_count": null,
      "metadata": {
        "id": "mcALUpCmr7t7"
      },
      "outputs": [],
      "source": [
        "def floydwarshall(WMat):\n",
        "  (rows,cols,x)=WMat.shape\n",
        "  infinity = np.max(WMat)*rows*rows+1\n",
        "  SP=np.zeros(shape=(rows,cols,cols+1))\n",
        "  for i in range(rows):\n",
        "    for j in range(cols):\n",
        "      SP[i,j,0]=infinity\n",
        "  for i in range(rows):\n",
        "    for j in range(cols):\n",
        "      if(WMat[i,j,0]==1):\n",
        "        SP[i,j,0]=WMat[i,j,1]\n",
        "  for k in range(1,cols+1):\n",
        "    for i in range(rows):\n",
        "      for j in range(cols):\n",
        "        SP[i,j,k]=min(SP[i,j,k-1],SP[i,k-1,k-1]+SP[k-1,j,k-1])\n",
        "  return(SP[:,:,cols])"
      ]
    }
  ]
}