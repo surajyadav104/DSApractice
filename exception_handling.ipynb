{
  "nbformat": 4,
  "nbformat_minor": 0,
  "metadata": {
    "colab": {
      "name": "exception_handling.ipynb",
      "provenance": [],
      "collapsed_sections": [],
      "authorship_tag": "ABX9TyMS1KpyU17zueP6gywoovaP",
      "include_colab_link": true
    },
    "kernelspec": {
      "name": "python3",
      "display_name": "Python 3"
    },
    "language_info": {
      "name": "python"
    }
  },
  "cells": [
    {
      "cell_type": "markdown",
      "metadata": {
        "id": "view-in-github",
        "colab_type": "text"
      },
      "source": [
        "<a href=\"https://colab.research.google.com/github/surajyadav104/DSApractice/blob/main/exception_handling.ipynb\" target=\"_parent\"><img src=\"https://colab.research.google.com/assets/colab-badge.svg\" alt=\"Open In Colab\"/></a>"
      ]
    },
    {
      "cell_type": "code",
      "metadata": {
        "colab": {
          "base_uri": "https://localhost:8080/"
        },
        "id": "0QPtggdZ5Cak",
        "outputId": "be9b2421-cb6a-4d21-df36-adb8aafa0669"
      },
      "source": [
        "def practice(a):\n",
        "  if(a<10):\n",
        "    b=a/(a-5)\n",
        "    print(b)\n",
        "try:\n",
        "  for i in range(1,6):\n",
        "    practice(i)\n",
        "except ZeroDivisionError:\n",
        "   print(\"ZeroDivisionError Occurred and Handled\")\n",
        "except NameError:\n",
        "    print(\"NameError Occurred and Handled\")"
      ],
      "execution_count": null,
      "outputs": [
        {
          "output_type": "stream",
          "name": "stdout",
          "text": [
            "-0.25\n",
            "-0.6666666666666666\n",
            "-1.5\n",
            "-4.0\n",
            "ZeroDivisionError Occurred and Handled\n"
          ]
        }
      ]
    }
  ]
}