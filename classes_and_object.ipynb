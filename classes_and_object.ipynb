{
  "nbformat": 4,
  "nbformat_minor": 0,
  "metadata": {
    "colab": {
      "name": "classes-and-object.ipynb",
      "provenance": [],
      "authorship_tag": "ABX9TyPA2pm8Ix6U6MekzQwSpgmV",
      "include_colab_link": true
    },
    "kernelspec": {
      "name": "python3",
      "display_name": "Python 3"
    },
    "language_info": {
      "name": "python"
    }
  },
  "cells": [
    {
      "cell_type": "markdown",
      "metadata": {
        "id": "view-in-github",
        "colab_type": "text"
      },
      "source": [
        "<a href=\"https://colab.research.google.com/github/surajyadav104/DSApractice/blob/main/classes_and_object.ipynb\" target=\"_parent\"><img src=\"https://colab.research.google.com/assets/colab-badge.svg\" alt=\"Open In Colab\"/></a>"
      ]
    },
    {
      "cell_type": "code",
      "metadata": {
        "id": "gIPZnB598QsF"
      },
      "source": [
        "class Point:\n",
        "  def __init__(self,a=0,b=0):\n",
        "    self.x=a\n",
        "    self.y=b\n",
        "  def translate(self,deltax,deltay):\n",
        "    self.x += deltax\n",
        "    self.y += deltay\n",
        "  def odistance(self):\n",
        "    import math\n",
        "    d=math.sqrt((self.x*self.x) + (self.y*self.y))\n",
        "    return(d)"
      ],
      "execution_count": 10,
      "outputs": []
    },
    {
      "cell_type": "code",
      "metadata": {
        "id": "JaFaDgBsllPa"
      },
      "source": [
        "p=Point(3,4)\n",
        "q=Point(7,10)"
      ],
      "execution_count": 21,
      "outputs": []
    },
    {
      "cell_type": "code",
      "metadata": {
        "colab": {
          "base_uri": "https://localhost:8080/"
        },
        "id": "Kl6YPn0wmPUN",
        "outputId": "0f0d4459-e6c3-4a38-aee2-3aec4389cd00"
      },
      "source": [
        "p.odistance()"
      ],
      "execution_count": 14,
      "outputs": [
        {
          "output_type": "execute_result",
          "data": {
            "text/plain": [
              "5.0"
            ]
          },
          "metadata": {},
          "execution_count": 14
        }
      ]
    },
    {
      "cell_type": "markdown",
      "metadata": {
        "id": "uxwSOB7rnk0q"
      },
      "source": [
        "**Polar Coordinate:**"
      ]
    },
    {
      "cell_type": "code",
      "metadata": {
        "id": "UGgE_cU5hq0k"
      },
      "source": [
        "import math\n",
        "class Point:\n",
        "  def __init__(self,a=0,b=0):\n",
        "    self.r = math.sqrt(a*a +b*b)\n",
        "    if(a==0):\n",
        "      self.theta = math.pi/2\n",
        "    else:\n",
        "      self.theta = math.atan(b/a)\n",
        "  def odistance(self):\n",
        "    return(self.r)      \n",
        "  def translate(self,deltax,deltay):\n",
        "    x = self.r*math.cos(self.theta)\n",
        "    y = self.r*math.sin(self.theta)\n",
        "    x += deltax\n",
        "    y = deltay\n",
        "    self.r= math.sqrt(x*x + y*y)\n",
        "    if(x==0):\n",
        "      self.theta = math.pi/2\n",
        "    else:\n",
        "      self.theta = math.atan(y/x)\n",
        "        "
      ],
      "execution_count": 20,
      "outputs": []
    },
    {
      "cell_type": "code",
      "metadata": {
        "colab": {
          "base_uri": "https://localhost:8080/"
        },
        "id": "7QItSR_NnrQI",
        "outputId": "fbdaa742-065c-4304-c8ae-f800df768bae"
      },
      "source": [
        "p.theta"
      ],
      "execution_count": 22,
      "outputs": [
        {
          "output_type": "execute_result",
          "data": {
            "text/plain": [
              "0.9272952180016122"
            ]
          },
          "metadata": {},
          "execution_count": 22
        }
      ]
    }
  ]
}