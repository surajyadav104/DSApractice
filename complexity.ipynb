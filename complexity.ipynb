{
  "nbformat": 4,
  "nbformat_minor": 0,
  "metadata": {
    "colab": {
      "name": "complexity.ipynb",
      "provenance": [],
      "authorship_tag": "ABX9TyMENrVNNfp+phAQl3ph4uqd",
      "include_colab_link": true
    },
    "kernelspec": {
      "name": "python3",
      "display_name": "Python 3"
    },
    "language_info": {
      "name": "python"
    }
  },
  "cells": [
    {
      "cell_type": "markdown",
      "metadata": {
        "id": "view-in-github",
        "colab_type": "text"
      },
      "source": [
        "<a href=\"https://colab.research.google.com/github/surajyadav104/DSApractice/blob/main/complexity.ipynb\" target=\"_parent\"><img src=\"https://colab.research.google.com/assets/colab-badge.svg\" alt=\"Open In Colab\"/></a>"
      ]
    },
    {
      "cell_type": "markdown",
      "metadata": {
        "id": "Ldr2osGoJCin"
      },
      "source": [
        "**Maximum element in List:**"
      ]
    },
    {
      "cell_type": "code",
      "metadata": {
        "id": "dV0-JJrcJIoN"
      },
      "source": [
        "def maxelement(L):\n",
        "  maxL=L[0]\n",
        "  for i in range(len(L)):\n",
        "    if(L[i]>maxL):\n",
        "      maxL=L[i]\n",
        "  return maxL    "
      ],
      "execution_count": 7,
      "outputs": []
    },
    {
      "cell_type": "code",
      "metadata": {
        "colab": {
          "base_uri": "https://localhost:8080/"
        },
        "id": "LjlvqhZ7KBly",
        "outputId": "0e1da16b-975a-422f-9a0b-62b50bfb9e14"
      },
      "source": [
        "print(maxelement([1,3,5,7,8,4]))"
      ],
      "execution_count": 8,
      "outputs": [
        {
          "output_type": "stream",
          "name": "stdout",
          "text": [
            "8\n"
          ]
        }
      ]
    },
    {
      "cell_type": "markdown",
      "metadata": {
        "id": "yOIrbsFKK9UK"
      },
      "source": [
        "**Check whether list contain Duplicate:**"
      ]
    },
    {
      "cell_type": "code",
      "metadata": {
        "id": "MA_GWj_hLKHH"
      },
      "source": [
        "def Duplicate(L):\n",
        "  for i in range(len(L)):\n",
        "    for j in range(i,len(L)):\n",
        "      if(L[i]==L[j]):\n",
        "        return(True)\n",
        "  return(False)      "
      ],
      "execution_count": 16,
      "outputs": []
    },
    {
      "cell_type": "code",
      "metadata": {
        "colab": {
          "base_uri": "https://localhost:8080/"
        },
        "id": "Wy8nDdzJLlSv",
        "outputId": "9bf558ff-4063-4975-8d6a-465c15c30da0"
      },
      "source": [
        "print(Duplicate([2,4,6,7,9,4,2]))"
      ],
      "execution_count": 18,
      "outputs": [
        {
          "output_type": "stream",
          "name": "stdout",
          "text": [
            "True\n"
          ]
        }
      ]
    },
    {
      "cell_type": "markdown",
      "metadata": {
        "id": "tD3lQhTQOgRi"
      },
      "source": [
        "**Matrix multiplication:**"
      ]
    },
    {
      "cell_type": "code",
      "metadata": {
        "id": "-xZZl_cYOl_O"
      },
      "source": [
        "def matMult(A,B):\n",
        "  (m,n,p)=(len(A),len(B),len(B[0]))\n",
        "  C=[[0 for i in range(p)] for j in range(m) ]\n",
        "  for i in range(m):\n",
        "    for j in range(p):\n",
        "      for k in range(n):\n",
        "        C[i][j] += A[i][k]*B[k][j]\n",
        "  return(C)      "
      ],
      "execution_count": 20,
      "outputs": []
    },
    {
      "cell_type": "code",
      "metadata": {
        "colab": {
          "base_uri": "https://localhost:8080/"
        },
        "id": "RF8QbOkUPuFI",
        "outputId": "2f75877b-6b93-4f9e-ba9d-87373c45a089"
      },
      "source": [
        "print(matMult([[1,2,3],[3,4,5]],[[5,7],[3,5],[7,0]]))"
      ],
      "execution_count": 22,
      "outputs": [
        {
          "output_type": "stream",
          "name": "stdout",
          "text": [
            "[[32, 17], [62, 41]]\n"
          ]
        }
      ]
    },
    {
      "cell_type": "markdown",
      "metadata": {
        "id": "TX1oUkZDSZuL"
      },
      "source": [
        "**No of bits in Binary representation:**"
      ]
    },
    {
      "cell_type": "code",
      "metadata": {
        "id": "vDRGbmjaSiLE"
      },
      "source": [
        "def noOfBits(n):\n",
        "  count=1\n",
        "  while(n>1):\n",
        "    n=n//2\n",
        "    count+=1\n",
        "  return(count)  "
      ],
      "execution_count": 23,
      "outputs": []
    },
    {
      "cell_type": "code",
      "metadata": {
        "colab": {
          "base_uri": "https://localhost:8080/"
        },
        "id": "OhzC2ib_S-b3",
        "outputId": "9be0ffa8-f8ef-4dfe-d19e-f25b140bc97f"
      },
      "source": [
        "print(noOfBits(759879847))"
      ],
      "execution_count": 24,
      "outputs": [
        {
          "output_type": "stream",
          "name": "stdout",
          "text": [
            "30\n"
          ]
        }
      ]
    }
  ]
}