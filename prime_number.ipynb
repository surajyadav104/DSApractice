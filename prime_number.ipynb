{
  "nbformat": 4,
  "nbformat_minor": 0,
  "metadata": {
    "colab": {
      "name": "prime-number.ipynb",
      "provenance": [],
      "authorship_tag": "ABX9TyPSmdlhbzCJ40ojeGkZg2Nh",
      "include_colab_link": true
    },
    "kernelspec": {
      "name": "python3",
      "display_name": "Python 3"
    },
    "language_info": {
      "name": "python"
    }
  },
  "cells": [
    {
      "cell_type": "markdown",
      "metadata": {
        "id": "view-in-github",
        "colab_type": "text"
      },
      "source": [
        "<a href=\"https://colab.research.google.com/github/surajyadav104/DSApractice/blob/main/prime_number.ipynb\" target=\"_parent\"><img src=\"https://colab.research.google.com/assets/colab-badge.svg\" alt=\"Open In Colab\"/></a>"
      ]
    },
    {
      "cell_type": "markdown",
      "metadata": {
        "id": "fqa1QGn27Ffw"
      },
      "source": [
        "**Checking Primality**"
      ]
    },
    {
      "cell_type": "code",
      "metadata": {
        "id": "qWyrodu35Ck_"
      },
      "source": [
        "def factors(n):\n",
        "  fl=[]\n",
        "  for i in range(1,n+1):\n",
        "    if(n%i==0):\n",
        "      fl.append(i)\n",
        "  return(fl)    "
      ],
      "execution_count": null,
      "outputs": []
    },
    {
      "cell_type": "code",
      "metadata": {
        "id": "BWfydA_Z6jRF"
      },
      "source": [
        "def prime(n):\n",
        "  return(factors(n)==[1,n])"
      ],
      "execution_count": null,
      "outputs": []
    },
    {
      "cell_type": "code",
      "metadata": {
        "colab": {
          "base_uri": "https://localhost:8080/"
        },
        "id": "8TXQnKky61Ix",
        "outputId": "58a95480-c0b2-4d82-c8e8-8a03ff8acc01"
      },
      "source": [
        "print(prime(7))"
      ],
      "execution_count": null,
      "outputs": [
        {
          "output_type": "stream",
          "name": "stdout",
          "text": [
            "True\n"
          ]
        }
      ]
    },
    {
      "cell_type": "markdown",
      "metadata": {
        "id": "fKBD6fAwBYEc"
      },
      "source": [
        "**Checking Primality method 2:**"
      ]
    },
    {
      "cell_type": "code",
      "metadata": {
        "id": "RjXFoMwrAp7T"
      },
      "source": [
        "def prime1(n):\n",
        "  result=True\n",
        "  for i in range(2,n):\n",
        "    if(n%i==0):\n",
        "      result = False\n",
        "      break\n",
        "  return(result)    "
      ],
      "execution_count": null,
      "outputs": []
    },
    {
      "cell_type": "code",
      "metadata": {
        "colab": {
          "base_uri": "https://localhost:8080/"
        },
        "id": "C3rTT3KUBIuq",
        "outputId": "a09322c0-5d03-4478-aff0-425ecbec8f88"
      },
      "source": [
        "print(prime1(97))"
      ],
      "execution_count": null,
      "outputs": [
        {
          "output_type": "stream",
          "name": "stdout",
          "text": [
            "True\n"
          ]
        }
      ]
    },
    {
      "cell_type": "markdown",
      "metadata": {
        "id": "UrViMbDmC2mq"
      },
      "source": [
        "**Checking Primality method 3:**"
      ]
    },
    {
      "cell_type": "code",
      "metadata": {
        "id": "6S76iAFwC78p"
      },
      "source": [
        "import math\n",
        "def prime2(n):\n",
        "  (result,i)=(True,2)\n",
        "  while(result and i<math.sqrt(n)):\n",
        "    if(n%i==0):\n",
        "      return False\n",
        "    i=i+1\n",
        "  return(result)    "
      ],
      "execution_count": null,
      "outputs": []
    },
    {
      "cell_type": "code",
      "metadata": {
        "colab": {
          "base_uri": "https://localhost:8080/"
        },
        "id": "ienhgVgSD_bv",
        "outputId": "a3be7d25-8a29-4eab-d0c8-da7db8792812"
      },
      "source": [
        "print(prime2(93))"
      ],
      "execution_count": null,
      "outputs": [
        {
          "output_type": "stream",
          "name": "stdout",
          "text": [
            "False\n"
          ]
        }
      ]
    },
    {
      "cell_type": "markdown",
      "metadata": {
        "id": "Ufecjad48nmH"
      },
      "source": [
        "**List of prime upto n:**"
      ]
    },
    {
      "cell_type": "code",
      "metadata": {
        "id": "aMtwF4wm73co"
      },
      "source": [
        "def primeupto(n):\n",
        "  pl=[]\n",
        "  for i in range(1,n+1):\n",
        "    if(prime(i)):\n",
        "      pl.append(i)\n",
        "  return(pl)    "
      ],
      "execution_count": null,
      "outputs": []
    },
    {
      "cell_type": "code",
      "metadata": {
        "colab": {
          "base_uri": "https://localhost:8080/"
        },
        "id": "vl2rllBI8YDW",
        "outputId": "88fb3192-04bc-40ec-df67-a197975ac78d"
      },
      "source": [
        "print(primeupto(100))"
      ],
      "execution_count": null,
      "outputs": [
        {
          "output_type": "stream",
          "name": "stdout",
          "text": [
            "[2, 3, 5, 7, 11, 13, 17, 19, 23, 29, 31, 37, 41, 43, 47, 53, 59, 61, 67, 71, 73, 79, 83, 89, 97]\n"
          ]
        }
      ]
    },
    {
      "cell_type": "markdown",
      "metadata": {
        "id": "xxx_o6Y0_9Gd"
      },
      "source": [
        "**List of first m primes:**"
      ]
    },
    {
      "cell_type": "code",
      "metadata": {
        "id": "5KWYAjYK-Imh"
      },
      "source": [
        "def firstprime(m):\n",
        "  (i,count,pl)=(1,0,[])\n",
        "  while(count<m):\n",
        "    if(prime(i)):\n",
        "      (count,pl)=(count+1,pl+[i])\n",
        "    i = i+1\n",
        "  return(pl)    "
      ],
      "execution_count": null,
      "outputs": []
    },
    {
      "cell_type": "code",
      "metadata": {
        "colab": {
          "base_uri": "https://localhost:8080/"
        },
        "id": "I5pdA1X__p-f",
        "outputId": "8cfe898f-5131-4a1c-d7f6-8e0ef8c658a9"
      },
      "source": [
        "print(firstprime(19))"
      ],
      "execution_count": null,
      "outputs": [
        {
          "output_type": "stream",
          "name": "stdout",
          "text": [
            "[2, 3, 5, 7, 11, 13, 17, 19, 23, 29, 31, 37, 41, 43, 47, 53, 59, 61, 67]\n"
          ]
        }
      ]
    },
    {
      "cell_type": "markdown",
      "metadata": {
        "id": "XnfqXUbKHOh9"
      },
      "source": [
        "**Difference between two primes:**"
      ]
    },
    {
      "cell_type": "code",
      "metadata": {
        "id": "CVp7_6vDE0WK"
      },
      "source": [
        "def primediffs(n):\n",
        "  lastprime = 2\n",
        "  pd = {}\n",
        "  for i in range(3,n):\n",
        "    if(prime(i)):\n",
        "      d=i-lastprime\n",
        "      lastprime=i\n",
        "      if(d in pd.keys()):\n",
        "        pd[d] = pd[d]+1\n",
        "      else:\n",
        "        pd[d]=1\n",
        "  return(pd)        "
      ],
      "execution_count": null,
      "outputs": []
    },
    {
      "cell_type": "code",
      "metadata": {
        "colab": {
          "base_uri": "https://localhost:8080/"
        },
        "id": "pIXdJ2EIG8Y2",
        "outputId": "bcec4970-f88d-414e-aeb2-816d303127c3"
      },
      "source": [
        "print(primediffs(100))"
      ],
      "execution_count": null,
      "outputs": [
        {
          "output_type": "stream",
          "name": "stdout",
          "text": [
            "{1: 1, 2: 8, 4: 7, 6: 7, 8: 1}\n"
          ]
        }
      ]
    }
  ]
}