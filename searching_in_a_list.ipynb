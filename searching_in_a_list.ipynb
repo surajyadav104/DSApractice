{
  "nbformat": 4,
  "nbformat_minor": 0,
  "metadata": {
    "colab": {
      "name": "searching_in_a_list.ipynb",
      "provenance": [],
      "authorship_tag": "ABX9TyPWzPYEY2e5Un8PVARtKJWP",
      "include_colab_link": true
    },
    "kernelspec": {
      "name": "python3",
      "display_name": "Python 3"
    },
    "language_info": {
      "name": "python"
    }
  },
  "cells": [
    {
      "cell_type": "markdown",
      "metadata": {
        "id": "view-in-github",
        "colab_type": "text"
      },
      "source": [
        "<a href=\"https://colab.research.google.com/github/surajyadav104/DSApractice/blob/main/searching_in_a_list.ipynb\" target=\"_parent\"><img src=\"https://colab.research.google.com/assets/colab-badge.svg\" alt=\"Open In Colab\"/></a>"
      ]
    },
    {
      "cell_type": "markdown",
      "metadata": {
        "id": "P_UQ8xdmV-T3"
      },
      "source": [
        "**Native Search:**"
      ]
    },
    {
      "cell_type": "code",
      "metadata": {
        "id": "S3mSDl5lU2Dn"
      },
      "source": [
        "def nativesearch(a,L):\n",
        "  for i in L:\n",
        "    if(a==i):\n",
        "      return(True)\n",
        "  return(False)    "
      ],
      "execution_count": 3,
      "outputs": []
    },
    {
      "cell_type": "code",
      "metadata": {
        "colab": {
          "base_uri": "https://localhost:8080/"
        },
        "id": "2nBspZX6Vpx9",
        "outputId": "1412264d-990e-4480-fa0a-6f6c5714f867"
      },
      "source": [
        "print(nativesearch(2,[4,5,7,8,6,3]))"
      ],
      "execution_count": 4,
      "outputs": [
        {
          "output_type": "stream",
          "name": "stdout",
          "text": [
            "False\n"
          ]
        }
      ]
    },
    {
      "cell_type": "markdown",
      "metadata": {
        "id": "z-tc6e_7Wcap"
      },
      "source": [
        "**Binary Search:**"
      ]
    },
    {
      "cell_type": "code",
      "metadata": {
        "id": "oBrFy6dJWf3q"
      },
      "source": [
        "def binarySearch(a,L):\n",
        "  m=len(L)//2\n",
        "  if(L==[]):\n",
        "    return False\n",
        "  if(L[m]==a):\n",
        "    return True\n",
        "  if(a<L[m]):\n",
        "    return(binarySearch(a,L[:m]))\n",
        "  else:\n",
        "    return(binarySearch(a,L[m+1:]))  "
      ],
      "execution_count": 5,
      "outputs": []
    },
    {
      "cell_type": "code",
      "metadata": {
        "colab": {
          "base_uri": "https://localhost:8080/"
        },
        "id": "Y3Ei50P0ZxLV",
        "outputId": "bd38ff93-c62b-411a-c07e-9ee2f7e86012"
      },
      "source": [
        "print(binarySearch(5,[0,1,2,3,4,5,6,7,8,9,10,11,12,13,14,15,16]))"
      ],
      "execution_count": 6,
      "outputs": [
        {
          "output_type": "stream",
          "name": "stdout",
          "text": [
            "True\n"
          ]
        }
      ]
    }
  ]
}