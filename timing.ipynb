{
  "nbformat": 4,
  "nbformat_minor": 0,
  "metadata": {
    "colab": {
      "name": "timing.ipynb",
      "provenance": [],
      "authorship_tag": "ABX9TyO/jZ+yy3OmNytBLcKlHSaX",
      "include_colab_link": true
    },
    "kernelspec": {
      "name": "python3",
      "display_name": "Python 3"
    },
    "language_info": {
      "name": "python"
    }
  },
  "cells": [
    {
      "cell_type": "markdown",
      "metadata": {
        "id": "view-in-github",
        "colab_type": "text"
      },
      "source": [
        "<a href=\"https://colab.research.google.com/github/surajyadav104/DSApractice/blob/main/timing.ipynb\" target=\"_parent\"><img src=\"https://colab.research.google.com/assets/colab-badge.svg\" alt=\"Open In Colab\"/></a>"
      ]
    },
    {
      "cell_type": "code",
      "metadata": {
        "id": "_XlZ-tFooiDl"
      },
      "source": [
        "import time\n",
        "class TimeError(Exception):\n",
        "  \"\"\"report error used in timer class \"\"\"\n",
        "class Timer:\n",
        "  def __init__(self):\n",
        "    self._start_time = None\n",
        "    self._elapsed_time = None\n",
        "  def start(self):\n",
        "    if self._start_time is not None:\n",
        "      raise TimeError(\"Timer is running use .stop()\")\n",
        "    self._start_time = time.perf_counter() \n",
        "  def stop(self):\n",
        "    if self._start_time is None:\n",
        "      raise TimeError(\"Timer is not running use .start()\")\n",
        "    self._elapsed_time = time.perf_counter() - self._start_time\n",
        "    self._start_time = None\n",
        "  def elapsed(self):\n",
        "    if self._elapsed_time is None:\n",
        "      raise TimeError(\"Timer has not been run yet use .start()\")\n",
        "    return(self._elapsed_time)\n",
        "  def __str__(self):\n",
        "    return(str(self._elapsed_time))    "
      ],
      "execution_count": 10,
      "outputs": []
    },
    {
      "cell_type": "code",
      "metadata": {
        "colab": {
          "base_uri": "https://localhost:8080/"
        },
        "id": "TO0dwAzrvjfC",
        "outputId": "8cf45bf2-7ce8-4cb5-e557-9a2fb4fd973c"
      },
      "source": [
        "t= Timer()\n",
        "for i in range(5,8):\n",
        "  t.start()\n",
        "  n=0\n",
        "  for j in range(10**i):\n",
        "    n=n+i\n",
        "  t.stop()\n",
        "  print(i,t)  "
      ],
      "execution_count": 13,
      "outputs": [
        {
          "output_type": "stream",
          "name": "stdout",
          "text": [
            "5 0.016353914999967856\n",
            "6 0.13722090900000694\n",
            "7 1.2368781249999756\n"
          ]
        }
      ]
    }
  ]
}