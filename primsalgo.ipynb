{
  "nbformat": 4,
  "nbformat_minor": 0,
  "metadata": {
    "colab": {
      "name": "primsalgo.ipynb",
      "provenance": [],
      "authorship_tag": "ABX9TyPCAF/fh0ZGq1OJpf+ux2b4",
      "include_colab_link": true
    },
    "kernelspec": {
      "name": "python3",
      "display_name": "Python 3"
    },
    "language_info": {
      "name": "python"
    }
  },
  "cells": [
    {
      "cell_type": "markdown",
      "metadata": {
        "id": "view-in-github",
        "colab_type": "text"
      },
      "source": [
        "<a href=\"https://colab.research.google.com/github/surajyadav104/DSApractice/blob/main/primsalgo.ipynb\" target=\"_parent\"><img src=\"https://colab.research.google.com/assets/colab-badge.svg\" alt=\"Open In Colab\"/></a>"
      ]
    },
    {
      "cell_type": "code",
      "execution_count": null,
      "metadata": {
        "id": "0VTUvFCoz4fA"
      },
      "outputs": [],
      "source": [
        "def primlist(WList):\n",
        "  infinity = 1 + max([d for u in WList.keys() for (v,d) in WList[u]])\n",
        "  (visited,distance,TreeEdges)=({},{},[])\n",
        "  for v in Wlist.keys():\n",
        "    (visited[v],distance[v])=(False,infinity)\n",
        "  visited[0]=True\n",
        "  for (v,d)in WList[0]:\n",
        "    distance[v]=d\n",
        "  for i in WList.keys():\n",
        "    (mindist,nextv)=(infinity,none)\n",
        "    for u in WList.keys():\n",
        "      for (v,d)in WList[u]:\n",
        "        if visited[u] and (not visited[v] and d<mindist):\n",
        "          (mindist,nextv,nexte)=(d,v,(d,v))\n",
        "    if(nextv is None):\n",
        "      break\n",
        "    visited[nextv]=True\n",
        "    TreeEdges.append(nexte)\n",
        "    for (v,d) in WList[nextv]:\n",
        "      if not visited[v]:\n",
        "        if not visited[v]:\n",
        "          distance[v]=min(distance[v], d)\n",
        "    return(TreeEdges)"
      ]
    }
  ]
}