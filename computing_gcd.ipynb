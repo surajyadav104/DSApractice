{
  "nbformat": 4,
  "nbformat_minor": 0,
  "metadata": {
    "colab": {
      "name": "computing-gcd.ipynb",
      "provenance": [],
      "authorship_tag": "ABX9TyMSGsxOOUU0OJ6dXjIkZFiX",
      "include_colab_link": true
    },
    "kernelspec": {
      "name": "python3",
      "display_name": "Python 3"
    },
    "language_info": {
      "name": "python"
    }
  },
  "cells": [
    {
      "cell_type": "markdown",
      "metadata": {
        "id": "view-in-github",
        "colab_type": "text"
      },
      "source": [
        "<a href=\"https://colab.research.google.com/github/surajyadav104/DSApractice/blob/main/computing_gcd.ipynb\" target=\"_parent\"><img src=\"https://colab.research.google.com/assets/colab-badge.svg\" alt=\"Open In Colab\"/></a>"
      ]
    },
    {
      "cell_type": "markdown",
      "metadata": {
        "id": "_DT1eLQE40EA"
      },
      "source": [
        "**Method 1 for computing gcd of two numbers:**"
      ]
    },
    {
      "cell_type": "code",
      "metadata": {
        "colab": {
          "base_uri": "https://localhost:8080/"
        },
        "id": "2W2bL-ei1wTN",
        "outputId": "8f948803-4d39-4371-a00a-5c5edb806969"
      },
      "source": [
        "def gcd1(m,n):\n",
        "  cf=[]\n",
        "  for i in range(1,min(m,n)+1):\n",
        "    if(m%i==0 and n%i==0):\n",
        "      cf.append(i)\n",
        "  return(cf[-1])\n",
        "print(gcd1(36,60))        "
      ],
      "execution_count": null,
      "outputs": [
        {
          "output_type": "stream",
          "name": "stdout",
          "text": [
            "12\n"
          ]
        }
      ]
    },
    {
      "cell_type": "markdown",
      "metadata": {
        "id": "0UXtyESN4eUG"
      },
      "source": [
        "**Method 2 for computing gcd of two numbers:**"
      ]
    },
    {
      "cell_type": "code",
      "metadata": {
        "colab": {
          "base_uri": "https://localhost:8080/"
        },
        "id": "GKXojVOR3piZ",
        "outputId": "7e6fe10d-1835-41b8-8973-bb503e7e50d3"
      },
      "source": [
        "def gcd2(m,n):\n",
        "  for i in range(1,min(m,n)+1):\n",
        "    if(m%i==0 and n%i==0):\n",
        "      mrcf=i\n",
        "  return(mrcf)\n",
        "print(gcd2(36,60))      "
      ],
      "execution_count": null,
      "outputs": [
        {
          "output_type": "stream",
          "name": "stdout",
          "text": [
            "12\n"
          ]
        }
      ]
    }
  ]
}