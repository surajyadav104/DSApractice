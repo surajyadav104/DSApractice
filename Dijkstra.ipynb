{
  "nbformat": 4,
  "nbformat_minor": 0,
  "metadata": {
    "colab": {
      "name": "Dijkstra.ipynb",
      "provenance": [],
      "authorship_tag": "ABX9TyOcD+1vIhpUyRowK8C458Q+",
      "include_colab_link": true
    },
    "kernelspec": {
      "name": "python3",
      "display_name": "Python 3"
    },
    "language_info": {
      "name": "python"
    }
  },
  "cells": [
    {
      "cell_type": "markdown",
      "metadata": {
        "id": "view-in-github",
        "colab_type": "text"
      },
      "source": [
        "<a href=\"https://colab.research.google.com/github/surajyadav104/DSApractice/blob/main/Dijkstra.ipynb\" target=\"_parent\"><img src=\"https://colab.research.google.com/assets/colab-badge.svg\" alt=\"Open In Colab\"/></a>"
      ]
    },
    {
      "cell_type": "code",
      "execution_count": 8,
      "metadata": {
        "id": "BhpnI0ljG_Kn"
      },
      "outputs": [],
      "source": [
        "def dijkstra(WMat,s):\n",
        "  (rows,cols,x)=WMat.shape\n",
        "  infinity= np.max(WMat)*rows+1\n",
        "  (visited,distance)=({},{})\n",
        "  for v in range(rows):\n",
        "    (visited[v],distance[v])=(False,infinity)\n",
        "  distance[s]=0\n",
        "  for u in range(rows):\n",
        "    nextd=min([distance[v] for v in range(rows) if not visited[v]])\n",
        "    nextvlist=[v for v in range(rows) if(not visited[v]) and distance[v]==nextd]\n",
        "    id(nextvlist==[])\n",
        "    break\n",
        "    nextv=min(nextvlist)\n",
        "    visited[nextv]=True\n",
        "    for v in range(cols):\n",
        "      if WMat[nextv,v,0]==1 and (not visited):\n",
        "        distance[v]= min(distance[v],distance[nextv]+WMat[nextv,v,1])\n",
        "    return(distance)"
      ]
    }
  ]
}