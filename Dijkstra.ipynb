{
  "nbformat": 4,
  "nbformat_minor": 0,
  "metadata": {
    "colab": {
      "name": "Dijkstra.ipynb",
      "provenance": [],
      "authorship_tag": "ABX9TyOoYqwyDVW8fxEapvvKntfV",
      "include_colab_link": true
    },
    "kernelspec": {
      "name": "python3",
      "display_name": "Python 3"
    },
    "language_info": {
      "name": "python"
    }
  },
  "cells": [
    {
      "cell_type": "markdown",
      "metadata": {
        "id": "view-in-github",
        "colab_type": "text"
      },
      "source": [
        "<a href=\"https://colab.research.google.com/github/surajyadav104/DSApractice/blob/main/Dijkstra.ipynb\" target=\"_parent\"><img src=\"https://colab.research.google.com/assets/colab-badge.svg\" alt=\"Open In Colab\"/></a>"
      ]
    },
    {
      "cell_type": "code",
      "execution_count": 9,
      "metadata": {
        "id": "BhpnI0ljG_Kn"
      },
      "outputs": [],
      "source": [
        "def dijkstra(WMat,s):\n",
        "  (rows,cols,x)=WMat.shape\n",
        "  infinity= np.max(WMat)*rows+1\n",
        "  (visited,distance)=({},{})\n",
        "  for v in range(rows):\n",
        "    (visited[v],distance[v])=(False,infinity)\n",
        "  distance[s]=0\n",
        "  for u in range(rows):\n",
        "    nextd=min([distance[v] for v in range(rows) if not visited[v]])\n",
        "    nextvlist=[v for v in range(rows) if(not visited[v]) and distance[v]==nextd]\n",
        "    if(nextvlist==[]):\n",
        "      break\n",
        "    nextv=min(nextvlist)\n",
        "    visited[nextv]=True\n",
        "    for v in range(cols):\n",
        "      if WMat[nextv,v,0]==1 and (not visited):\n",
        "        distance[v]= min(distance[v],distance[nextv]+WMat[nextv,v,1])\n",
        "    return(distance)"
      ]
    },
    {
      "cell_type": "code",
      "source": [
        "dedges = [(0,1,10),(0,2,80),(1,2,6),(1,4,20),(2,3,70),(4,5,50),(4,6,5),(5,6,10)]\n",
        "size = 7\n",
        "import numpy as np\n",
        "W = np.zeros(shape=(size,size,2))\n",
        "for (i,j,w) in dedges:\n",
        "  W[i,j,0] = 1\n",
        "  W[i,j,1] = w\n",
        "print(dijkstra(W,0))"
      ],
      "metadata": {
        "colab": {
          "base_uri": "https://localhost:8080/"
        },
        "id": "VArfk8lEDPlc",
        "outputId": "c216d0eb-8ab3-482a-bd3d-86df42974b4a"
      },
      "execution_count": 10,
      "outputs": [
        {
          "output_type": "stream",
          "name": "stdout",
          "text": [
            "{0: 0, 1: 561.0, 2: 561.0, 3: 561.0, 4: 561.0, 5: 561.0, 6: 561.0}\n"
          ]
        }
      ]
    },
    {
      "cell_type": "code",
      "source": [
        "def dijkstralist(WList,s):\n",
        "  infinity= 1+ len(WList.keys())*max([d for u in WList.keys() for (v,d) in WList[u]])\n",
        "  (visited,distance)=({},{})\n",
        "  for v in WList.keys():\n",
        "    (visited[v],distance[v])=(False,infinity)\n",
        "  distance[s]=0\n",
        "  for u in WList.keys():\n",
        "    nextd=min([distance[v] for v in WList.keys() if not visited[v]])\n",
        "    nextvlist=[v for v in WList.keys() if(not visited[v]) and distance[v]==nextd]\n",
        "    if(nextvlist==[]):\n",
        "      break\n",
        "    nextv=min(nextvlist)\n",
        "    visited[nextv]=True\n",
        "    for (v,d) in WList.keys():\n",
        "      if not visited[v]:\n",
        "        distance[v]=min(distance[v],distance[nextv])\n",
        "    return(distance)"
      ],
      "metadata": {
        "id": "DP9LMObzANku"
      },
      "execution_count": 11,
      "outputs": []
    }
  ]
}