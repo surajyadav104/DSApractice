{
  "nbformat": 4,
  "nbformat_minor": 0,
  "metadata": {
    "colab": {
      "name": "computing-gcd-2.ipynb",
      "provenance": [],
      "authorship_tag": "ABX9TyMWLACeVggDaTSRATyPRBWq",
      "include_colab_link": true
    },
    "kernelspec": {
      "name": "python3",
      "display_name": "Python 3"
    },
    "language_info": {
      "name": "python"
    }
  },
  "cells": [
    {
      "cell_type": "markdown",
      "metadata": {
        "id": "view-in-github",
        "colab_type": "text"
      },
      "source": [
        "<a href=\"https://colab.research.google.com/github/surajyadav104/DSApractice/blob/main/computing_gcd_2.ipynb\" target=\"_parent\"><img src=\"https://colab.research.google.com/assets/colab-badge.svg\" alt=\"Open In Colab\"/></a>"
      ]
    },
    {
      "cell_type": "markdown",
      "metadata": {
        "id": "mJGRPHI53HaZ"
      },
      "source": [
        "**Computing gcd by recursive way:**"
      ]
    },
    {
      "cell_type": "code",
      "metadata": {
        "id": "LkKqIY4VHd36"
      },
      "source": [
        "def gcd1(m,n):\n",
        "  (a,b)=(max(m,n),min(m,n))\n",
        "  if(a%b==0):\n",
        "    return b\n",
        "  else:\n",
        "    return(gcd1(b,(a-b)))  "
      ],
      "execution_count": null,
      "outputs": []
    },
    {
      "cell_type": "code",
      "metadata": {
        "colab": {
          "base_uri": "https://localhost:8080/"
        },
        "id": "4N7tLn2U2fZy",
        "outputId": "89b17a11-dd89-4dfa-c850-84f1e55e6933"
      },
      "source": [
        "print(gcd1(110000,34000))"
      ],
      "execution_count": null,
      "outputs": [
        {
          "output_type": "stream",
          "name": "stdout",
          "text": [
            "2000\n"
          ]
        }
      ]
    },
    {
      "cell_type": "markdown",
      "metadata": {
        "id": "eccj4g_83YLn"
      },
      "source": [
        "**Euclid's Algorithm (Best method):**"
      ]
    },
    {
      "cell_type": "code",
      "metadata": {
        "id": "4OpKKcQ73XjN"
      },
      "source": [
        "def gcd2(m,n):\n",
        "  (a,b) = (max(m,n),min(m,n))\n",
        "  if(a%b==0):\n",
        "    return(b)\n",
        "  else:\n",
        "    return(gcd2(b,a%b))  "
      ],
      "execution_count": null,
      "outputs": []
    },
    {
      "cell_type": "code",
      "metadata": {
        "colab": {
          "base_uri": "https://localhost:8080/"
        },
        "id": "xZ2s38tq4ox6",
        "outputId": "d218c42f-0a94-444e-f6ee-6681a68afc41"
      },
      "source": [
        "print(gcd2(8357835738735,30570930909))"
      ],
      "execution_count": null,
      "outputs": [
        {
          "output_type": "stream",
          "name": "stdout",
          "text": [
            "9\n"
          ]
        }
      ]
    }
  ]
}