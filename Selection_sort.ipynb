{
  "nbformat": 4,
  "nbformat_minor": 0,
  "metadata": {
    "colab": {
      "name": "Selection_sort.ipynb",
      "provenance": [],
      "authorship_tag": "ABX9TyNL7yrOq1se0jGmnOWkg+gz",
      "include_colab_link": true
    },
    "kernelspec": {
      "name": "python3",
      "display_name": "Python 3"
    },
    "language_info": {
      "name": "python"
    }
  },
  "cells": [
    {
      "cell_type": "markdown",
      "metadata": {
        "id": "view-in-github",
        "colab_type": "text"
      },
      "source": [
        "<a href=\"https://colab.research.google.com/github/surajyadav104/DSApractice/blob/main/Selection_sort.ipynb\" target=\"_parent\"><img src=\"https://colab.research.google.com/assets/colab-badge.svg\" alt=\"Open In Colab\"/></a>"
      ]
    },
    {
      "cell_type": "code",
      "metadata": {
        "id": "1hHI2ZiekAew"
      },
      "source": [
        "def Selectionsort(L):\n",
        "  n=len(L)\n",
        "  if(n<1):\n",
        "    return(L)\n",
        "  for i in range(n):\n",
        "    min = i\n",
        "    for j in range(i+1,n):\n",
        "      if(L[j]<L[min]):\n",
        "        min=j\n",
        "    (L[i],L[min])=(L[min],L[i])\n",
        "  return(L)  "
      ],
      "execution_count": 5,
      "outputs": []
    },
    {
      "cell_type": "code",
      "metadata": {
        "colab": {
          "base_uri": "https://localhost:8080/"
        },
        "id": "z8-PLBCJ2JXR",
        "outputId": "ac06499e-c387-4802-b0ca-ca858722e6ba"
      },
      "source": [
        "print(Selectionsort([4,6,1,8,5]))"
      ],
      "execution_count": 6,
      "outputs": [
        {
          "output_type": "stream",
          "name": "stdout",
          "text": [
            "[1, 4, 5, 6, 8]\n"
          ]
        }
      ]
    }
  ]
}